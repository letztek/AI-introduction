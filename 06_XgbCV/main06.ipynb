{
 "cells": [
  {
   "cell_type": "markdown",
   "metadata": {},
   "source": [
    "# XGB + CV"
   ]
  },
  {
   "cell_type": "code",
   "execution_count": 1,
   "metadata": {},
   "outputs": [],
   "source": [
    "import matplotlib.pyplot as plt\n",
    "from planar_utils import plot_decision_boundary, sigmoid, load_planar_dataset, load_extra_datasets\n",
    "import numpy as np\n",
    "import pandas as pd\n",
    "import os\n",
    "from collections import Counter \n",
    "\n",
    "from sklearn.neighbors import KNeighborsClassifier  ## KNN\n",
    "from sklearn.linear_model import LogisticRegressionCV  ## logistic regression\n",
    "from sklearn.tree import DecisionTreeClassifier  ## decision tree\n",
    "from sklearn.svm import SVC  ## SVM\n",
    "\n",
    "from sklearn.tree import DecisionTreeClassifier  ## decision tree\n",
    "from sklearn.ensemble import RandomForestClassifier, AdaBoostClassifier\n",
    "from xgboost import XGBClassifier\n",
    "\n",
    "import math\n",
    "import string\n",
    "import re\n",
    "\n",
    "import xgboost\n",
    "\n",
    "from preprocess import preprocess\n",
    "plt.rcParams['figure.figsize'] = [10, 8]"
   ]
  },
  {
   "cell_type": "markdown",
   "metadata": {
    "collapsed": true
   },
   "source": [
    "# 鐵達尼號資料集"
   ]
  },
  {
   "cell_type": "code",
   "execution_count": 2,
   "metadata": {
    "scrolled": true
   },
   "outputs": [
    {
     "data": {
      "text/html": [
       "<div>\n",
       "<style scoped>\n",
       "    .dataframe tbody tr th:only-of-type {\n",
       "        vertical-align: middle;\n",
       "    }\n",
       "\n",
       "    .dataframe tbody tr th {\n",
       "        vertical-align: top;\n",
       "    }\n",
       "\n",
       "    .dataframe thead th {\n",
       "        text-align: right;\n",
       "    }\n",
       "</style>\n",
       "<table border=\"1\" class=\"dataframe\">\n",
       "  <thead>\n",
       "    <tr style=\"text-align: right;\">\n",
       "      <th></th>\n",
       "      <th>PassengerId</th>\n",
       "      <th>Survived</th>\n",
       "      <th>Pclass</th>\n",
       "      <th>Sex</th>\n",
       "      <th>Age</th>\n",
       "      <th>SibSp</th>\n",
       "      <th>Parch</th>\n",
       "      <th>Ticket</th>\n",
       "      <th>Cabin</th>\n",
       "      <th>Embarked</th>\n",
       "      <th>Has_Cabin</th>\n",
       "      <th>Age_Cat</th>\n",
       "      <th>Fare_log2</th>\n",
       "      <th>Fare_Cat</th>\n",
       "      <th>Name_Length</th>\n",
       "      <th>Name_With_Special_Char</th>\n",
       "      <th>Family_Size</th>\n",
       "      <th>Title</th>\n",
       "    </tr>\n",
       "  </thead>\n",
       "  <tbody>\n",
       "    <tr>\n",
       "      <td>0</td>\n",
       "      <td>1</td>\n",
       "      <td>0</td>\n",
       "      <td>3</td>\n",
       "      <td>1</td>\n",
       "      <td>22.0</td>\n",
       "      <td>1</td>\n",
       "      <td>0</td>\n",
       "      <td>2</td>\n",
       "      <td>0</td>\n",
       "      <td>0</td>\n",
       "      <td>0</td>\n",
       "      <td>1</td>\n",
       "      <td>2.857981</td>\n",
       "      <td>0</td>\n",
       "      <td>23</td>\n",
       "      <td>0</td>\n",
       "      <td>1</td>\n",
       "      <td>1</td>\n",
       "    </tr>\n",
       "    <tr>\n",
       "      <td>1</td>\n",
       "      <td>2</td>\n",
       "      <td>1</td>\n",
       "      <td>1</td>\n",
       "      <td>0</td>\n",
       "      <td>38.0</td>\n",
       "      <td>1</td>\n",
       "      <td>0</td>\n",
       "      <td>5</td>\n",
       "      <td>3</td>\n",
       "      <td>2</td>\n",
       "      <td>1</td>\n",
       "      <td>2</td>\n",
       "      <td>6.155492</td>\n",
       "      <td>5</td>\n",
       "      <td>51</td>\n",
       "      <td>1</td>\n",
       "      <td>1</td>\n",
       "      <td>3</td>\n",
       "    </tr>\n",
       "    <tr>\n",
       "      <td>2</td>\n",
       "      <td>3</td>\n",
       "      <td>1</td>\n",
       "      <td>3</td>\n",
       "      <td>0</td>\n",
       "      <td>26.0</td>\n",
       "      <td>0</td>\n",
       "      <td>0</td>\n",
       "      <td>7</td>\n",
       "      <td>0</td>\n",
       "      <td>0</td>\n",
       "      <td>0</td>\n",
       "      <td>1</td>\n",
       "      <td>2.986411</td>\n",
       "      <td>0</td>\n",
       "      <td>22</td>\n",
       "      <td>0</td>\n",
       "      <td>0</td>\n",
       "      <td>2</td>\n",
       "    </tr>\n",
       "    <tr>\n",
       "      <td>3</td>\n",
       "      <td>4</td>\n",
       "      <td>1</td>\n",
       "      <td>1</td>\n",
       "      <td>0</td>\n",
       "      <td>35.0</td>\n",
       "      <td>1</td>\n",
       "      <td>0</td>\n",
       "      <td>1</td>\n",
       "      <td>3</td>\n",
       "      <td>0</td>\n",
       "      <td>1</td>\n",
       "      <td>2</td>\n",
       "      <td>5.730640</td>\n",
       "      <td>4</td>\n",
       "      <td>44</td>\n",
       "      <td>1</td>\n",
       "      <td>1</td>\n",
       "      <td>3</td>\n",
       "    </tr>\n",
       "    <tr>\n",
       "      <td>4</td>\n",
       "      <td>5</td>\n",
       "      <td>0</td>\n",
       "      <td>3</td>\n",
       "      <td>1</td>\n",
       "      <td>35.0</td>\n",
       "      <td>0</td>\n",
       "      <td>0</td>\n",
       "      <td>1</td>\n",
       "      <td>0</td>\n",
       "      <td>0</td>\n",
       "      <td>0</td>\n",
       "      <td>2</td>\n",
       "      <td>3.008989</td>\n",
       "      <td>0</td>\n",
       "      <td>24</td>\n",
       "      <td>0</td>\n",
       "      <td>0</td>\n",
       "      <td>1</td>\n",
       "    </tr>\n",
       "  </tbody>\n",
       "</table>\n",
       "</div>"
      ],
      "text/plain": [
       "   PassengerId  Survived  Pclass  Sex   Age  SibSp  Parch  Ticket  Cabin  \\\n",
       "0            1         0       3    1  22.0      1      0       2      0   \n",
       "1            2         1       1    0  38.0      1      0       5      3   \n",
       "2            3         1       3    0  26.0      0      0       7      0   \n",
       "3            4         1       1    0  35.0      1      0       1      3   \n",
       "4            5         0       3    1  35.0      0      0       1      0   \n",
       "\n",
       "   Embarked  Has_Cabin  Age_Cat  Fare_log2  Fare_Cat  Name_Length  \\\n",
       "0         0          0        1   2.857981         0           23   \n",
       "1         2          1        2   6.155492         5           51   \n",
       "2         0          0        1   2.986411         0           22   \n",
       "3         0          1        2   5.730640         4           44   \n",
       "4         0          0        2   3.008989         0           24   \n",
       "\n",
       "   Name_With_Special_Char  Family_Size  Title  \n",
       "0                       0            1      1  \n",
       "1                       1            1      3  \n",
       "2                       0            0      2  \n",
       "3                       1            1      3  \n",
       "4                       0            0      1  "
      ]
     },
     "execution_count": 2,
     "metadata": {},
     "output_type": "execute_result"
    }
   ],
   "source": [
    "df = pd.read_csv('train.csv')\n",
    "df = preprocess(df)\n",
    "df.head()"
   ]
  },
  {
   "cell_type": "code",
   "execution_count": 3,
   "metadata": {},
   "outputs": [],
   "source": [
    "X = df[['PassengerId', 'Pclass', 'Sex', 'Age', 'SibSp', 'Parch',\n",
    "       'Ticket', 'Cabin', 'Embarked', 'Has_Cabin', 'Age_Cat', 'Fare_log2',\n",
    "       'Fare_Cat', 'Name_Length', 'Name_With_Special_Char', 'Family_Size',\n",
    "       'Title']].values\n",
    "Y = df['Survived'].values"
   ]
  },
  {
   "cell_type": "code",
   "execution_count": 4,
   "metadata": {},
   "outputs": [
    {
     "name": "stdout",
     "output_type": "stream",
     "text": [
      "(623, 17)\n",
      "(268, 17)\n",
      "(623,)\n",
      "(268,)\n"
     ]
    }
   ],
   "source": [
    "from sklearn.model_selection  import train_test_split\n",
    "\n",
    "X_train, X_valid, Y_train, Y_valid = train_test_split(X, Y, test_size =0.3, random_state=1212)  ## 一般如果測試資料集超過1000筆就可以了，所以比率不會設這麼高\n",
    "print(X_train.shape)  ## (445, 17)\n",
    "print(X_valid.shape)  ## (446, 17) \n",
    "print(Y_train.shape)  ## (445,)\n",
    "print(Y_valid.shape)  ## (446,)"
   ]
  },
  {
   "cell_type": "code",
   "execution_count": 5,
   "metadata": {},
   "outputs": [
    {
     "name": "stderr",
     "output_type": "stream",
     "text": [
      "c:\\users\\thinktron\\projects\\iiimaterial\\venv\\lib\\site-packages\\sklearn\\svm\\base.py:193: FutureWarning: The default value of gamma will change from 'auto' to 'scale' in version 0.22 to account better for unscaled features. Set gamma explicitly to 'auto' or 'scale' to avoid this warning.\n",
      "  \"avoid this warning.\", FutureWarning)\n",
      "c:\\users\\thinktron\\projects\\iiimaterial\\venv\\lib\\site-packages\\sklearn\\ensemble\\forest.py:245: FutureWarning: The default value of n_estimators will change from 10 in version 0.20 to 100 in 0.22.\n",
      "  \"10 in version 0.20 to 100 in 0.22.\", FutureWarning)\n"
     ]
    },
    {
     "name": "stdout",
     "output_type": "stream",
     "text": [
      "SVM:  0.6455223880597015\n",
      "DecisionTree:  0.7798507462686567\n",
      "RandomForest:  0.8656716417910447\n",
      "AdaBoost:  0.7910447761194029\n",
      "XGB:  0.8432835820895522\n"
     ]
    }
   ],
   "source": [
    "def get_accuracy(clf):\n",
    "    #=============your works starts===============#\n",
    "    clf = clf()\n",
    "    clf =  clf.fit(X_train, Y_train)\n",
    "    y_pred = clf.predict(X_valid)\n",
    "    accuracy = (str(sum(Y_valid == y_pred)/Y_valid.shape[0]))\n",
    "    #==============your works ends================#\n",
    "    return accuracy\n",
    "\n",
    "print('SVM: ', get_accuracy(SVC))\n",
    "print('DecisionTree: ', get_accuracy(DecisionTreeClassifier))\n",
    "print('RandomForest: ', get_accuracy(RandomForestClassifier))\n",
    "print('AdaBoost: ', get_accuracy(AdaBoostClassifier))  ## Boosting的演算法\n",
    "print('XGB: ', get_accuracy(XGBClassifier))\n",
    "\n",
    "# SVM:  0.609865470852\n",
    "# DecisionTree:  0.764573991031\n",
    "# RandomForest:  0.795964125561\n",
    "# AdaBoost:  0.784753363229\n",
    "# XGB:  0.80269058296"
   ]
  },
  {
   "cell_type": "code",
   "execution_count": 6,
   "metadata": {
    "scrolled": true
   },
   "outputs": [
    {
     "name": "stdout",
     "output_type": "stream",
     "text": [
      "Accuracy:  0.835820895522388\n"
     ]
    }
   ],
   "source": [
    "# Set our parameters for xgboost\n",
    "params = {}\n",
    "# 請填入以下參數: \n",
    "# 目標函數: 二元分類\n",
    "# 評價函數: logloss\n",
    "# 學習速度: 0.04\n",
    "# 最大深度: 5\n",
    "#=============your works starts===============#\n",
    "params['objective'] = 'binary:logistic'\n",
    "params['eval_metric'] = 'logloss'\n",
    "params['eta'] = 0.04\n",
    "params['max_depth'] = 3\n",
    "#==============your works ends================#\n",
    "\n",
    "d_train = xgboost.DMatrix(X_train, label=Y_train)\n",
    "d_valid = xgboost.DMatrix(X_valid, label=Y_valid)\n",
    "\n",
    "watchlist = [(d_train, 'train'), (d_valid, 'valid')]\n",
    "\n",
    "bst = xgboost.train(params, d_train, 100, watchlist, early_stopping_rounds=100, verbose_eval=0)\n",
    "y_pred = bst.predict(xgboost.DMatrix(X_valid))\n",
    "print(\"Accuracy: \", str(sum(Y_valid == (y_pred > 0.5))/Y_valid.shape[0]))\n"
   ]
  },
  {
   "cell_type": "markdown",
   "metadata": {},
   "source": [
    "# 空氣品質"
   ]
  },
  {
   "cell_type": "code",
   "execution_count": 7,
   "metadata": {},
   "outputs": [],
   "source": [
    "# dateparse = lambda x: pd.datetime.strptime(x, '%d/%m/%Y %H:%M:%S')\n",
    "# dateparse_1 = lambda x: pd.datetime.strptime(x, '%Y-%m-%d %H:%M:%S')\n",
    "# EPA_6 = pd.read_csv('air_pollution_data/EPA_OD_201806.csv', parse_dates=['PublishTime'], date_parser=dateparse)\n",
    "# EPA_7 = pd.read_csv('air_pollution_data/EPA_OD_201807.csv', parse_dates=['PublishTime'], date_parser=dateparse)\n",
    "# EPA_8 = pd.read_csv('air_pollution_data/EPA_OD_201808.csv', parse_dates=['PublishTime'], date_parser=dateparse)\n",
    "# EPA_9 = pd.read_csv('air_pollution_data/EPA_OD_201809.csv', parse_dates=['PublishTime'], date_parser=dateparse)\n",
    "# EPA_10 = pd.read_csv('air_pollution_data/EPA_OD_201810.csv', parse_dates=['PublishTime'], date_parser=dateparse)\n",
    "# EPA_11 = pd.read_csv('air_pollution_data/EPA_OD_201811.csv', parse_dates=['PublishTime'], date_parser=dateparse)\n",
    "# EPA_12 = pd.read_csv('air_pollution_data/EPA_OD_201812.csv', parse_dates=['PublishTime'], date_parser=dateparse_1)\n",
    "# frames = [EPA_6, EPA_7, EPA_8, EPA_9, EPA_10, EPA_11, EPA_12]\n",
    "# df_AQI = pd.concat(frames)\n",
    "# df_AQI.to_pickle('air_pollution_data.pkl')\n",
    "# df_AQI.head()"
   ]
  },
  {
   "cell_type": "code",
   "execution_count": 8,
   "metadata": {},
   "outputs": [],
   "source": [
    "# df_AQI = pd.read_pickle('air_pollution_data.pkl')\n",
    "# df_AQI.sort_values(by='PublishTime', inplace=True)\n",
    "# df_AQI = df_AQI.loc[df_AQI['SiteName'] == '麥寮', ['SiteName', 'AQI', 'PM2.5', 'SO2', 'PublishTime']]\n",
    "# df_AQI.to_pickle('df_AQI_gl.pkl')"
   ]
  },
  {
   "cell_type": "code",
   "execution_count": 9,
   "metadata": {},
   "outputs": [],
   "source": [
    "df_AQI = pd.read_pickle('df_AQI_gl.pkl')"
   ]
  },
  {
   "cell_type": "code",
   "execution_count": 10,
   "metadata": {},
   "outputs": [],
   "source": [
    "window = 7\n",
    "shift = 1\n",
    "segments = int((df_AQI.shape[0] - window) // shift) + 1\n",
    "\n",
    "train = np.zeros((segments-1, 2 * window))\n",
    "target = np.zeros((segments-1,))\n",
    "for segment in range(segments -1):\n",
    "    seg = df_AQI.iloc[segment:segment+window][['SO2', 'PM2.5']]\n",
    "    target[segment] = df_AQI.iloc[segment+window][['AQI']]\n",
    "    train[segment] = np.append(seg['SO2'].values, seg['PM2.5'].values)"
   ]
  },
  {
   "cell_type": "code",
   "execution_count": 11,
   "metadata": {},
   "outputs": [],
   "source": [
    "train = np.where(np.isnan(train), -1, train)\n",
    "target = np.where(np.isnan(target), int(np.nanmean(target)), target)"
   ]
  },
  {
   "cell_type": "code",
   "execution_count": 12,
   "metadata": {},
   "outputs": [
    {
     "data": {
      "text/plain": [
       "((4721, 14), (4721,))"
      ]
     },
     "execution_count": 12,
     "metadata": {},
     "output_type": "execute_result"
    }
   ],
   "source": [
    "train.shape, target.shape"
   ]
  },
  {
   "cell_type": "code",
   "execution_count": 13,
   "metadata": {},
   "outputs": [
    {
     "data": {
      "text/plain": [
       "((3776, 14), (3776,), (945, 14), (945,))"
      ]
     },
     "execution_count": 13,
     "metadata": {},
     "output_type": "execute_result"
    }
   ],
   "source": [
    "X_train, X_valid, Y_train, Y_valid = train_test_split(train, target, test_size=0.2, random_state=2019)\n",
    "X_train.shape, Y_train.shape, X_valid.shape, Y_valid.shape"
   ]
  },
  {
   "cell_type": "code",
   "execution_count": 14,
   "metadata": {},
   "outputs": [
    {
     "name": "stdout",
     "output_type": "stream",
     "text": [
      "[20:22:05] WARNING: C:/Jenkins/workspace/xgboost-win64_release_0.90/src/objective/regression_obj.cu:152: reg:linear is now deprecated in favor of reg:squarederror.\n",
      "[0]\ttrain-rmse:74.7182\tvalid-rmse:75.0921\n",
      "Multiple eval metrics have been passed: 'valid-rmse' will be used for early stopping.\n",
      "\n",
      "Will train until valid-rmse hasn't improved in 10 rounds.\n",
      "[10]\ttrain-rmse:56.2433\tvalid-rmse:57.2731\n",
      "[20]\ttrain-rmse:42.8466\tvalid-rmse:44.581\n",
      "[30]\ttrain-rmse:33.2595\tvalid-rmse:35.6529\n",
      "[40]\ttrain-rmse:26.5246\tvalid-rmse:29.5798\n",
      "[50]\ttrain-rmse:21.8925\tvalid-rmse:25.5427\n",
      "[60]\ttrain-rmse:18.8046\tvalid-rmse:22.983\n",
      "[70]\ttrain-rmse:16.7946\tvalid-rmse:21.4035\n",
      "[80]\ttrain-rmse:15.4931\tvalid-rmse:20.4358\n",
      "[90]\ttrain-rmse:14.6551\tvalid-rmse:19.8031\n",
      "[100]\ttrain-rmse:14.1008\tvalid-rmse:19.4283\n",
      "[110]\ttrain-rmse:13.7185\tvalid-rmse:19.2046\n",
      "[120]\ttrain-rmse:13.4202\tvalid-rmse:19.0727\n",
      "[130]\ttrain-rmse:13.1949\tvalid-rmse:19.0049\n",
      "[140]\ttrain-rmse:13.0321\tvalid-rmse:18.9568\n",
      "[150]\ttrain-rmse:12.8907\tvalid-rmse:18.9242\n",
      "[160]\ttrain-rmse:12.7914\tvalid-rmse:18.8938\n",
      "[170]\ttrain-rmse:12.711\tvalid-rmse:18.8637\n",
      "[180]\ttrain-rmse:12.6417\tvalid-rmse:18.8473\n",
      "[190]\ttrain-rmse:12.5761\tvalid-rmse:18.8277\n",
      "[200]\ttrain-rmse:12.5151\tvalid-rmse:18.8179\n",
      "[210]\ttrain-rmse:12.4596\tvalid-rmse:18.8122\n",
      "[220]\ttrain-rmse:12.4096\tvalid-rmse:18.8031\n",
      "[230]\ttrain-rmse:12.3449\tvalid-rmse:18.7866\n",
      "[240]\ttrain-rmse:12.2967\tvalid-rmse:18.7779\n",
      "[250]\ttrain-rmse:12.2428\tvalid-rmse:18.7633\n",
      "[260]\ttrain-rmse:12.1924\tvalid-rmse:18.7449\n",
      "[270]\ttrain-rmse:12.1467\tvalid-rmse:18.7386\n",
      "[280]\ttrain-rmse:12.1038\tvalid-rmse:18.7303\n",
      "[290]\ttrain-rmse:12.0681\tvalid-rmse:18.7282\n",
      "[300]\ttrain-rmse:12.02\tvalid-rmse:18.7228\n",
      "Stopping. Best iteration:\n",
      "[299]\ttrain-rmse:12.0274\tvalid-rmse:18.7228\n",
      "\n"
     ]
    }
   ],
   "source": [
    "# Set our parameters for xgboost\n",
    "params = {}\n",
    "\n",
    "# 請填入以下參數: \n",
    "# 目標函數: 線性回歸\n",
    "# 評價函數: rmse\n",
    "# 學習速度: 0.01\n",
    "# 最大深度: 5\n",
    "# bst = xgboost.train(params, d_train, 3000, watchlist, early_stopping_rounds=50, verbose_eval=10)\n",
    "#=============your works starts===============#\n",
    "params['objective'] = 'reg:linear'\n",
    "params['eval_metric'] = 'rmse'\n",
    "params['eta'] = 0.03\n",
    "params['max_depth'] = 3\n",
    "d_train = xgboost.DMatrix(X_train, label=Y_train)\n",
    "d_valid = xgboost.DMatrix(X_valid, label=Y_valid)\n",
    "watchlist = [(d_train, 'train'), (d_valid, 'valid')]\n",
    "bst = xgboost.train(params, d_train, 3000, watchlist, early_stopping_rounds=10, verbose_eval=10)\n",
    "Y_pred = bst.predict(xgboost.DMatrix(X_valid))\n",
    "#==============your works ends================#\n"
   ]
  },
  {
   "cell_type": "code",
   "execution_count": 15,
   "metadata": {},
   "outputs": [
    {
     "data": {
      "image/png": "[encoded data removed]",
      "text/plain": [
       "<Figure size 432x288 with 1 Axes>"
      ]
     },
     "metadata": {
      "needs_background": "light"
     },
     "output_type": "display_data"
    }
   ],
   "source": [
    "# 請使用 xgboost.plot_importance，並設定max_num_features=10\n",
    "#!=============your works starts===============!#\n",
    "xgboost.plot_importance(bst, max_num_features=10)\n",
    "#!==============your works ends================!#\n",
    "\n",
    "plt.show()"
   ]
  },
  {
   "cell_type": "code",
   "execution_count": 16,
   "metadata": {},
   "outputs": [
    {
     "data": {
      "image/png": "[encoded data removed]",
      "text/plain": [
       "<Figure size 432x288 with 1 Axes>"
      ]
     },
     "metadata": {
      "needs_background": "light"
     },
     "output_type": "display_data"
    }
   ],
   "source": [
    "plt.plot(Y_pred, label='Y_pred', alpha=0.5, c='r')\n",
    "plt.plot(Y_valid, label='Y_valid', alpha=0.5, c='g')\n",
    "plt.show()"
   ]
  },
  {
   "cell_type": "code",
   "execution_count": 17,
   "metadata": {},
   "outputs": [
    {
     "data": {
      "text/html": [
       "<div>\n",
       "<style scoped>\n",
       "    .dataframe tbody tr th:only-of-type {\n",
       "        vertical-align: middle;\n",
       "    }\n",
       "\n",
       "    .dataframe tbody tr th {\n",
       "        vertical-align: top;\n",
       "    }\n",
       "\n",
       "    .dataframe thead th {\n",
       "        text-align: right;\n",
       "    }\n",
       "</style>\n",
       "<table border=\"1\" class=\"dataframe\">\n",
       "  <thead>\n",
       "    <tr style=\"text-align: right;\">\n",
       "      <th></th>\n",
       "      <th>predict</th>\n",
       "      <th>truth</th>\n",
       "      <th>error</th>\n",
       "    </tr>\n",
       "  </thead>\n",
       "  <tbody>\n",
       "    <tr>\n",
       "      <td>438</td>\n",
       "      <td>26.421331</td>\n",
       "      <td>20.0</td>\n",
       "      <td>0.321067</td>\n",
       "    </tr>\n",
       "    <tr>\n",
       "      <td>619</td>\n",
       "      <td>32.649693</td>\n",
       "      <td>21.0</td>\n",
       "      <td>0.554747</td>\n",
       "    </tr>\n",
       "    <tr>\n",
       "      <td>255</td>\n",
       "      <td>25.611446</td>\n",
       "      <td>21.0</td>\n",
       "      <td>0.219593</td>\n",
       "    </tr>\n",
       "    <tr>\n",
       "      <td>624</td>\n",
       "      <td>26.643148</td>\n",
       "      <td>21.0</td>\n",
       "      <td>0.268721</td>\n",
       "    </tr>\n",
       "    <tr>\n",
       "      <td>638</td>\n",
       "      <td>26.557676</td>\n",
       "      <td>21.0</td>\n",
       "      <td>0.264651</td>\n",
       "    </tr>\n",
       "  </tbody>\n",
       "</table>\n",
       "</div>"
      ],
      "text/plain": [
       "       predict  truth     error\n",
       "438  26.421331   20.0  0.321067\n",
       "619  32.649693   21.0  0.554747\n",
       "255  25.611446   21.0  0.219593\n",
       "624  26.643148   21.0  0.268721\n",
       "638  26.557676   21.0  0.264651"
      ]
     },
     "execution_count": 17,
     "metadata": {},
     "output_type": "execute_result"
    }
   ],
   "source": [
    "df_result = pd.DataFrame()\n",
    "\n",
    "# 1. 使用X_valid去評價此模型\n",
    "# 2. 使用 ['predict', 'truth', 'error'] 三個欄位的DataFrame去使決畫呈現預測結果\n",
    "#    (1). 請注意與測結果(Y_pred)與真實值(Y_valid)都必須取exp方能反映實際情況\n",
    "#    (2). error 請使用計算np.abs(predict-truth)/truth計算誤差百分比\n",
    "# 3. 使用truth欄位排序dataframe rows\n",
    "#=============your works starts===============#\n",
    "Y_pred = bst.predict(xgboost.DMatrix(X_valid))\n",
    "df_result['predict'] = Y_pred\n",
    "df_result['truth'] = Y_valid\n",
    "df_result['error'] = np.abs(Y_pred - Y_valid) / Y_valid\n",
    "df_result_sort = df_result.sort_values('truth')\n",
    "#==============your works ends================#\n",
    "\n",
    "df_result_sort.head()"
   ]
  },
  {
   "cell_type": "code",
   "execution_count": 18,
   "metadata": {
    "scrolled": true
   },
   "outputs": [
    {
     "name": "stderr",
     "output_type": "stream",
     "text": [
      "c:\\users\\thinktron\\projects\\iiimaterial\\venv\\lib\\site-packages\\ipykernel_launcher.py:3: FutureWarning: `Series.plot()` should not be called with positional arguments, only keyword arguments. The order of positional arguments will change in the future. Use `Series.plot(kind='hist')` instead of `Series.plot('hist',)`.\n",
      "  This is separate from the ipykernel package so we can avoid doing imports until\n"
     ]
    },
    {
     "data": {
      "image/png": "[encoded data removed]",
      "text/plain": [
       "<Figure size 432x288 with 1 Axes>"
      ]
     },
     "metadata": {
      "needs_background": "light"
     },
     "output_type": "display_data"
    }
   ],
   "source": [
    "# 請使用df_result_sort濾掉error大於1的部分畫出error的分布圖\n",
    "#!=============your works starts===============!#\n",
    "df_result_sort.loc[df_result_sort['error'] < 1, 'error'].plot('hist')\n",
    "#!==============your works ends================!#\n",
    "\n",
    "plt.show()"
   ]
  },
  {
   "cell_type": "code",
   "execution_count": 19,
   "metadata": {},
   "outputs": [
    {
     "name": "stderr",
     "output_type": "stream",
     "text": [
      "No handles with labels found to put in legend.\n"
     ]
    },
    {
     "data": {
      "image/png": "[encoded data removed]",
      "text/plain": [
       "<Figure size 432x288 with 1 Axes>"
      ]
     },
     "metadata": {
      "needs_background": "light"
     },
     "output_type": "display_data"
    }
   ],
   "source": [
    "# 請使用plt.scatter，以0~len(df_result)作為x，預測值(黑色)與實際值(紅色)作為y。\n",
    "#!=============your works starts===============!#\n",
    "plt.scatter(range(len(df_result)), df_result_sort['predict'].values, color='black', s=0.5)\n",
    "plt.scatter(range(len(df_result)), df_result_sort['truth'].values, color='red', s=0.5)\n",
    "#!==============your works ends================!#\n",
    "\n",
    "plt.legend()\n",
    "plt.show()"
   ]
  },
  {
   "cell_type": "code",
   "execution_count": null,
   "metadata": {},
   "outputs": [],
   "source": []
  },
  {
   "cell_type": "code",
   "execution_count": null,
   "metadata": {},
   "outputs": [],
   "source": []
  },
  {
   "cell_type": "code",
   "execution_count": null,
   "metadata": {},
   "outputs": [],
   "source": []
  },
  {
   "cell_type": "code",
   "execution_count": null,
   "metadata": {},
   "outputs": [],
   "source": []
  },
  {
   "cell_type": "code",
   "execution_count": null,
   "metadata": {},
   "outputs": [],
   "source": []
  },
  {
   "cell_type": "code",
   "execution_count": null,
   "metadata": {},
   "outputs": [],
   "source": []
  },
  {
   "cell_type": "markdown",
   "metadata": {
    "collapsed": true
   },
   "source": [
    "# 房價資料集"
   ]
  },
  {
   "cell_type": "code",
   "execution_count": 20,
   "metadata": {},
   "outputs": [],
   "source": [
    "# import urllib.request\n",
    "# if 'df_realestate_processed.csv' not in os.listdir():\n",
    "#     url = 'https://s3.amazonaws.com/datasets-jeremy/df_realestate_processed.csv'  \n",
    "#     urllib.request.urlretrieve(url, 'df_realestate_processed.csv')\n",
    "    \n",
    "# # processed\n",
    "# path = \"df_realestate_processed.csv\"\n",
    "# df_realestate_processed = pd.read_csv(path)\n",
    "# X = df_realestate_processed.drop([\"price_per_meter\", \"total_price\"], axis=1)\n",
    "# Y = df_realestate_processed['total_price']\n"
   ]
  },
  {
   "cell_type": "code",
   "execution_count": 21,
   "metadata": {},
   "outputs": [],
   "source": [
    "# X_train = X.iloc[:-1000]\n",
    "# Y_train = Y.iloc[:-1000]\n",
    "# Y_train = np.log(Y_train) \n",
    "\n",
    "# X_valid = X.iloc[-1000:]\n",
    "# Y_valid = Y.iloc[-1000:]\n",
    "# Y_valid = np.log(Y_valid) "
   ]
  },
  {
   "cell_type": "code",
   "execution_count": 22,
   "metadata": {
    "scrolled": true
   },
   "outputs": [],
   "source": [
    "# # Set our parameters for xgboost\n",
    "# params = {}\n",
    "\n",
    "# # 請填入以下參數: \n",
    "# # 目標函數: 線性回歸\n",
    "# # 評價函數: rmse\n",
    "# # 學習速度: 0.01\n",
    "# # 最大深度: 5\n",
    "# # bst = xgboost.train(params, d_train, 3000, watchlist, early_stopping_rounds=50, verbose_eval=10)\n",
    "# #=============your works starts===============#\n",
    "# params['objective'] = 'reg:linear'\n",
    "# params['eval_metric'] = 'rmse'\n",
    "# params['eta'] = 0.03\n",
    "# params['max_depth'] = 3\n",
    "# d_train = xgboost.DMatrix(X_train, label=Y_train)\n",
    "# d_valid = xgboost.DMatrix(X_valid, label=Y_valid)\n",
    "# watchlist = [(d_train, 'train'), (d_valid, 'valid')]\n",
    "# bst = xgboost.train(params, d_train, 3000, watchlist, early_stopping_rounds=10, verbose_eval=10)\n",
    "# Y_pred = bst.predict(xgboost.DMatrix(X_valid))\n",
    "# #==============your works ends================#\n"
   ]
  },
  {
   "cell_type": "code",
   "execution_count": 23,
   "metadata": {},
   "outputs": [],
   "source": [
    "#　模型save與load的方式自己看\n",
    "# bst.save_model(\"bst_subtotal_log_with_cross.pickle.dat\")\n",
    "# bst = xgboost.Booster({'nthread':1}) #init model\n",
    "# bst.load_model(\"bst_subtotal_log_with_cross.pickle.dat\") # load data\n"
   ]
  },
  {
   "cell_type": "code",
   "execution_count": 24,
   "metadata": {
    "scrolled": true
   },
   "outputs": [],
   "source": [
    "# # 請使用 xgboost.plot_importance，並設定max_num_features=10\n",
    "# #!=============your works starts===============!#\n",
    "# xgboost.plot_importance(bst, max_num_features=10)\n",
    "# #!==============your works ends================!#\n",
    "\n",
    "# plt.show()"
   ]
  },
  {
   "cell_type": "code",
   "execution_count": 25,
   "metadata": {},
   "outputs": [],
   "source": [
    "# df_result = pd.DataFrame()\n",
    "\n",
    "# # 1. 使用X_valid去評價此模型\n",
    "# # 2. 使用 ['predict', 'truth', 'error'] 三個欄位的DataFrame去使決畫呈現預測結果\n",
    "# #    (1). 請注意與測結果(Y_pred)與真實值(Y_valid)都必須取exp方能反映實際情況\n",
    "# #    (2). error 請使用計算np.abs(predict-truth)/truth計算誤差百分比\n",
    "# #=============your works starts===============#\n",
    "# Y_pred = bst.predict(xgboost.DMatrix(X_valid))\n",
    "# df_result['predict'] = np.exp(Y_pred)\n",
    "# df_result['truth'] = np.exp((list(Y_valid)))\n",
    "# df_result['error'] = df_result.apply(lambda x:np.abs(x['predict'] - x['truth']) / x['truth'], axis=1)\n",
    "# df_result_sort = df_result.sort_values('truth')\n",
    "# #==============your works ends================#\n",
    "\n",
    "# df_result.head()"
   ]
  },
  {
   "cell_type": "code",
   "execution_count": 26,
   "metadata": {},
   "outputs": [],
   "source": [
    "# # 請使用df_result_sort濾掉error大於1的部分畫出error的分布圖\n",
    "# #!=============your works starts===============!#\n",
    "# df_result_sort.loc[df_result_sort['error'] < 1, 'error'].plot('hist')\n",
    "# #!==============your works ends================!#\n",
    "\n",
    "# plt.show()"
   ]
  },
  {
   "cell_type": "code",
   "execution_count": 27,
   "metadata": {},
   "outputs": [],
   "source": [
    "# # 請使用plt.scatter，以0~len(df_result)作為x，預測值(黑色)與實際值(紅色)作為y。\n",
    "# #!=============your works starts===============!#\n",
    "# plt.scatter(range(len(df_result)), df_result_sort['predict'].values, color='black', s=0.5)\n",
    "# plt.scatter(range(len(df_result)), df_result_sort['truth'].values, color='red', s=0.5)\n",
    "# #!==============your works ends================!#\n",
    "\n",
    "# plt.show()"
   ]
  },
  {
   "cell_type": "code",
   "execution_count": null,
   "metadata": {},
   "outputs": [],
   "source": []
  }
 ],
 "metadata": {
  "kernelspec": {
   "display_name": "Python 3",
   "language": "python",
   "name": "python3"
  },
  "language_info": {
   "codemirror_mode": {
    "name": "ipython",
    "version": 3
   },
   "file_extension": ".py",
   "mimetype": "text/x-python",
   "name": "python",
   "nbconvert_exporter": "python",
   "pygments_lexer": "ipython3",
   "version": "3.6.7"
  }
 },
 "nbformat": 4,
 "nbformat_minor": 2
}
